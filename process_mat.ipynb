{
 "cells": [
  {
   "cell_type": "code",
   "execution_count": 1,
   "metadata": {},
   "outputs": [
    {
     "name": "stdout",
     "output_type": "stream",
     "text": [
      "dataset  generate_data.ipynb  README.md\n"
     ]
    }
   ],
   "source": [
    "!ls"
   ]
  },
  {
   "cell_type": "code",
   "execution_count": 2,
   "metadata": {},
   "outputs": [],
   "source": [
    "from scipy.io import loadmat\n",
    "from tqdm import tqdm\n",
    "import numpy as np\n",
    "import pandas as pd"
   ]
  },
  {
   "cell_type": "code",
   "execution_count": 3,
   "metadata": {},
   "outputs": [],
   "source": [
    "imdb_mat = 'dataset/imdb_crop/imdb.mat'\n",
    "wiki_mat = 'dataset/wiki_crop/wiki.mat'"
   ]
  },
  {
   "cell_type": "code",
   "execution_count": 4,
   "metadata": {},
   "outputs": [
    {
     "name": "stdout",
     "output_type": "stream",
     "text": [
      "[(array([[693726, 693726, 693726, ..., 726831, 726831, 726831]], dtype=int32), array([[1968, 1970, 1968, ..., 2011, 2011, 2011]], dtype=uint16), array([[array(['01/nm0000001_rm124825600_1899-5-10_1968.jpg'], dtype='<U43'),\n",
      "        array(['01/nm0000001_rm3343756032_1899-5-10_1970.jpg'], dtype='<U44'),\n",
      "        array(['01/nm0000001_rm577153792_1899-5-10_1968.jpg'], dtype='<U43'),\n",
      "        ...,\n",
      "        array(['08/nm3994408_rm926592512_1989-12-29_2011.jpg'], dtype='<U44'),\n",
      "        array(['08/nm3994408_rm943369728_1989-12-29_2011.jpg'], dtype='<U44'),\n",
      "        array(['08/nm3994408_rm976924160_1989-12-29_2011.jpg'], dtype='<U44')]],\n",
      "      dtype=object), array([[1., 1., 1., ..., 0., 0., 0.]]), array([[array(['Fred Astaire'], dtype='<U12'),\n",
      "        array(['Fred Astaire'], dtype='<U12'),\n",
      "        array(['Fred Astaire'], dtype='<U12'), ...,\n",
      "        array(['Jane Levy'], dtype='<U9'),\n",
      "        array(['Jane Levy'], dtype='<U9'),\n",
      "        array(['Jane Levy'], dtype='<U9')]], dtype=object), array([[array([[1072.926,  161.838, 1214.784,  303.696]]),\n",
      "        array([[477.184, 100.352, 622.592, 245.76 ]]),\n",
      "        array([[114.96964309, 114.96964309, 451.68657236, 451.68657236]]),\n",
      "        ..., array([[  1,   1, 453, 640]], dtype=uint16),\n",
      "        array([[144.75225472, 126.76472288, 305.78804127, 287.80050943]]),\n",
      "        array([[457.524,  41.748, 518.016, 102.24 ]])]], dtype=object), array([[1.45969291, 2.5431976 , 3.45557949, ...,       -inf, 4.45072452,\n",
      "        2.13350269]]), array([[1.11897336, 1.85200773, 2.98566022, ...,        nan,        nan,\n",
      "               nan]]), array([[array([\"'Lee' George Quinones\"], dtype='<U21'),\n",
      "        array([\"'Weird Al' Yankovic\"], dtype='<U19'),\n",
      "        array(['2 Chainz'], dtype='<U8'), ...,\n",
      "        array(['Éric Caravaca'], dtype='<U13'),\n",
      "        array(['Ólafur Darri Ólafsson'], dtype='<U21'),\n",
      "        array(['Óscar Jaenada'], dtype='<U13')]], dtype=object), array([[6488, 6488, 6488, ..., 8410, 8410, 8410]], dtype=uint16))]\n"
     ]
    }
   ],
   "source": [
    "imdb_data = loadmat(imdb_mat)['imdb']\n",
    "print(imdb_data[0])"
   ]
  },
  {
   "cell_type": "code",
   "execution_count": 5,
   "metadata": {},
   "outputs": [
    {
     "name": "stdout",
     "output_type": "stream",
     "text": [
      "[(array([[723671, 703186, 711677, ..., 720620, 723893, 713846]], dtype=int32), array([[2009, 1964, 2008, ..., 2013, 2011, 2008]], dtype=uint16), array([[array(['17/10000217_1981-05-05_2009.jpg'], dtype='<U31'),\n",
      "        array(['48/10000548_1925-04-04_1964.jpg'], dtype='<U31'),\n",
      "        array(['12/100012_1948-07-03_2008.jpg'], dtype='<U29'), ...,\n",
      "        array(['09/9998109_1972-12-27_2013.jpg'], dtype='<U30'),\n",
      "        array(['00/9999400_1981-12-13_2011.jpg'], dtype='<U30'),\n",
      "        array(['80/999980_1954-06-11_2008.jpg'], dtype='<U29')]],\n",
      "      dtype=object), array([[1., 1., 1., ..., 1., 1., 0.]]), array([[array(['Sami Jauhojärvi'], dtype='<U15'),\n",
      "        array(['Dettmar Cramer'], dtype='<U14'),\n",
      "        array(['Marc Okrand'], dtype='<U11'), ...,\n",
      "        array(['Michael Wiesinger'], dtype='<U17'),\n",
      "        array(['Johann Grugger'], dtype='<U14'),\n",
      "        array(['Greta Van Susteren'], dtype='<U18')]], dtype=object), array([[array([[111.29109473, 111.29109473, 252.66993082, 252.66993082]]),\n",
      "        array([[252.4833023 , 126.68165115, 354.53192596, 228.73027481]]),\n",
      "        array([[113.52, 169.84, 366.08, 422.4 ]]), ...,\n",
      "        array([[169.88839786,  74.31669472, 235.2534231 , 139.68171997]]),\n",
      "        array([[1, 1, 1, 1]], dtype=uint8),\n",
      "        array([[ 92.72633235,  62.0435549 , 230.12083087, 199.43805342]])]],\n",
      "      dtype=object), array([[4.30096239, 2.6456395 , 4.32932883, ..., 3.49430317,       -inf,\n",
      "        5.48691655]]), array([[       nan, 1.94924791,        nan, ...,        nan,        nan,\n",
      "               nan]]))]\n"
     ]
    }
   ],
   "source": [
    "wiki_data = loadmat(wiki_mat)['wiki']\n",
    "print(wiki_data[0])"
   ]
  },
  {
   "cell_type": "code",
   "execution_count": 6,
   "metadata": {},
   "outputs": [],
   "source": [
    "imdb_images_path = imdb_data[0][0][2][0]\n",
    "imdb_images_gender = imdb_data[0][0][3][0]\n",
    "imdb_images_face1 = imdb_data[0][0][6][0]\n",
    "imdb_images_face2 = imdb_data[0][0][7][0]"
   ]
  },
  {
   "cell_type": "code",
   "execution_count": 7,
   "metadata": {},
   "outputs": [],
   "source": [
    "wiki_images_path = wiki_data[0][0][2][0]\n",
    "wiki_images_gender = wiki_data[0][0][3][0]\n",
    "wiki_images_face1 = wiki_data[0][0][6][0]\n",
    "wiki_images_face2 = wiki_data[0][0][7][0]"
   ]
  },
  {
   "cell_type": "code",
   "execution_count": 8,
   "metadata": {},
   "outputs": [
    {
     "name": "stderr",
     "output_type": "stream",
     "text": [
      "100%|██████████| 460723/460723 [00:00<00:00, 667228.21it/s]\n",
      "100%|██████████| 62328/62328 [00:00<00:00, 684947.60it/s]"
     ]
    },
    {
     "name": "stdout",
     "output_type": "stream",
     "text": [
      "['dataset/imdb_crop/01/nm0000001_rm124825600_1899-5-10_1968.jpg', 'dataset/imdb_crop/01/nm0000001_rm3343756032_1899-5-10_1970.jpg', 'dataset/imdb_crop/01/nm0000001_rm577153792_1899-5-10_1968.jpg', 'dataset/imdb_crop/01/nm0000001_rm946909184_1899-5-10_1968.jpg', 'dataset/imdb_crop/01/nm0000001_rm980463616_1899-5-10_1968.jpg', 'dataset/imdb_crop/02/nm0000002_rm1075631616_1924-9-16_1991.jpg', 'dataset/imdb_crop/02/nm0000002_rm1346607872_1924-9-16_2004.jpg', 'dataset/imdb_crop/02/nm0000002_rm1363385088_1924-9-16_2004.jpg', 'dataset/imdb_crop/02/nm0000002_rm1411175936_1924-9-16_1991.jpg', 'dataset/imdb_crop/02/nm0000002_rm1447271168_1924-9-16_2004.jpg']\n",
      "523051\n"
     ]
    },
    {
     "name": "stderr",
     "output_type": "stream",
     "text": [
      "\n"
     ]
    }
   ],
   "source": [
    "paths = []\n",
    "\n",
    "for path in tqdm(imdb_images_path):\n",
    "    paths.append('dataset/imdb_crop/' + path[0])\n",
    "    \n",
    "for path in tqdm(wiki_images_path):\n",
    "    paths.append('dataset/wiki_crop/' + path[0])\n",
    "\n",
    "print(paths[0:10])\n",
    "print(len(paths))"
   ]
  },
  {
   "cell_type": "code",
   "execution_count": 9,
   "metadata": {},
   "outputs": [
    {
     "name": "stderr",
     "output_type": "stream",
     "text": [
      "100%|██████████| 460723/460723 [00:00<00:00, 881763.22it/s]\n",
      "100%|██████████| 62328/62328 [00:00<00:00, 880964.12it/s]"
     ]
    },
    {
     "name": "stdout",
     "output_type": "stream",
     "text": [
      "['m', 'm', 'm', 'm', 'm', 'f', 'f', 'f', 'f', 'f']\n",
      "523051\n"
     ]
    },
    {
     "name": "stderr",
     "output_type": "stream",
     "text": [
      "\n"
     ]
    }
   ],
   "source": [
    "genders = []\n",
    "\n",
    "for g in tqdm(imdb_images_gender):\n",
    "    if g == 1.0:\n",
    "        genders.append('m')\n",
    "    else:\n",
    "        genders.append('f')\n",
    "\n",
    "for g in tqdm(wiki_images_gender):\n",
    "    if g == 1.0:\n",
    "        genders.append('m')\n",
    "    else:\n",
    "        genders.append('f')\n",
    "\n",
    "print(genders[0:10])\n",
    "print(len(genders))"
   ]
  },
  {
   "cell_type": "code",
   "execution_count": 10,
   "metadata": {},
   "outputs": [
    {
     "name": "stderr",
     "output_type": "stream",
     "text": [
      "100%|██████████| 460723/460723 [00:00<00:00, 485893.32it/s]\n",
      "100%|██████████| 62328/62328 [00:00<00:00, 550942.10it/s]"
     ]
    },
    {
     "name": "stdout",
     "output_type": "stream",
     "text": [
      "['1.4596929136202572', '2.5431975987694435', '3.455579487909806', '1.872117169344902', '1.1587657871914132', '3.4905630909496344', '3.4791889134154426', '3.87017062712482', '3.786498646396679', '3.472943641929206']\n",
      "523051\n"
     ]
    },
    {
     "name": "stderr",
     "output_type": "stream",
     "text": [
      "\n"
     ]
    }
   ],
   "source": [
    "f1_scores = []\n",
    "\n",
    "for f1 in tqdm(imdb_images_face1):\n",
    "    f1_scores.append(str(f1))\n",
    "\n",
    "for f1 in tqdm(wiki_images_face1):\n",
    "    f1_scores.append(str(f1))\n",
    "\n",
    "print(f1_scores[0:10])\n",
    "print(len(f1_scores))"
   ]
  },
  {
   "cell_type": "code",
   "execution_count": 11,
   "metadata": {},
   "outputs": [
    {
     "name": "stderr",
     "output_type": "stream",
     "text": [
      "100%|██████████| 460723/460723 [00:00<00:00, 585804.05it/s]\n",
      "100%|██████████| 62328/62328 [00:00<00:00, 865629.08it/s]"
     ]
    },
    {
     "name": "stdout",
     "output_type": "stream",
     "text": [
      "['1.1189733571573068', '1.852007728341101', '2.9856602160994425', 'nan', 'nan', '1.3453352771625287', 'nan', 'nan', '3.6297041401689754', '2.9451325883872235']\n",
      "523051\n"
     ]
    },
    {
     "name": "stderr",
     "output_type": "stream",
     "text": [
      "\n"
     ]
    }
   ],
   "source": [
    "f2_scores = []\n",
    "\n",
    "for f2 in tqdm(imdb_images_face2):\n",
    "    f2_scores.append(str(f2))\n",
    "\n",
    "for f2 in tqdm(wiki_images_face2):\n",
    "    f2_scores.append(str(f2))\n",
    "\n",
    "print(f2_scores[0:10])\n",
    "print(len(f2_scores))"
   ]
  },
  {
   "cell_type": "code",
   "execution_count": 12,
   "metadata": {},
   "outputs": [],
   "source": [
    "assert len(paths) == len(genders) == len(f1_scores) == len(f2_scores), \"Something wrong with the dataset\""
   ]
  },
  {
   "cell_type": "code",
   "execution_count": 13,
   "metadata": {},
   "outputs": [],
   "source": [
    "dataframe = pd.DataFrame(columns=['path', 'gender', 'f1_score', 'f2_score'])"
   ]
  },
  {
   "cell_type": "code",
   "execution_count": 14,
   "metadata": {},
   "outputs": [],
   "source": [
    "dataframe['path'] = paths\n",
    "dataframe['gender'] = genders\n",
    "dataframe['f1_score'] = f1_scores\n",
    "dataframe['f2_score'] = f2_scores"
   ]
  },
  {
   "cell_type": "code",
   "execution_count": 15,
   "metadata": {},
   "outputs": [
    {
     "data": {
      "text/html": [
       "<div>\n",
       "<style scoped>\n",
       "    .dataframe tbody tr th:only-of-type {\n",
       "        vertical-align: middle;\n",
       "    }\n",
       "\n",
       "    .dataframe tbody tr th {\n",
       "        vertical-align: top;\n",
       "    }\n",
       "\n",
       "    .dataframe thead th {\n",
       "        text-align: right;\n",
       "    }\n",
       "</style>\n",
       "<table border=\"1\" class=\"dataframe\">\n",
       "  <thead>\n",
       "    <tr style=\"text-align: right;\">\n",
       "      <th></th>\n",
       "      <th>path</th>\n",
       "      <th>gender</th>\n",
       "      <th>f1_score</th>\n",
       "      <th>f2_score</th>\n",
       "    </tr>\n",
       "  </thead>\n",
       "  <tbody>\n",
       "    <tr>\n",
       "      <td>0</td>\n",
       "      <td>dataset/imdb_crop/01/nm0000001_rm124825600_189...</td>\n",
       "      <td>m</td>\n",
       "      <td>1.4596929136202572</td>\n",
       "      <td>1.1189733571573068</td>\n",
       "    </tr>\n",
       "    <tr>\n",
       "      <td>1</td>\n",
       "      <td>dataset/imdb_crop/01/nm0000001_rm3343756032_18...</td>\n",
       "      <td>m</td>\n",
       "      <td>2.5431975987694435</td>\n",
       "      <td>1.852007728341101</td>\n",
       "    </tr>\n",
       "    <tr>\n",
       "      <td>2</td>\n",
       "      <td>dataset/imdb_crop/01/nm0000001_rm577153792_189...</td>\n",
       "      <td>m</td>\n",
       "      <td>3.455579487909806</td>\n",
       "      <td>2.9856602160994425</td>\n",
       "    </tr>\n",
       "    <tr>\n",
       "      <td>3</td>\n",
       "      <td>dataset/imdb_crop/01/nm0000001_rm946909184_189...</td>\n",
       "      <td>m</td>\n",
       "      <td>1.872117169344902</td>\n",
       "      <td>nan</td>\n",
       "    </tr>\n",
       "    <tr>\n",
       "      <td>4</td>\n",
       "      <td>dataset/imdb_crop/01/nm0000001_rm980463616_189...</td>\n",
       "      <td>m</td>\n",
       "      <td>1.1587657871914132</td>\n",
       "      <td>nan</td>\n",
       "    </tr>\n",
       "  </tbody>\n",
       "</table>\n",
       "</div>"
      ],
      "text/plain": [
       "                                                path gender  \\\n",
       "0  dataset/imdb_crop/01/nm0000001_rm124825600_189...      m   \n",
       "1  dataset/imdb_crop/01/nm0000001_rm3343756032_18...      m   \n",
       "2  dataset/imdb_crop/01/nm0000001_rm577153792_189...      m   \n",
       "3  dataset/imdb_crop/01/nm0000001_rm946909184_189...      m   \n",
       "4  dataset/imdb_crop/01/nm0000001_rm980463616_189...      m   \n",
       "\n",
       "             f1_score            f2_score  \n",
       "0  1.4596929136202572  1.1189733571573068  \n",
       "1  2.5431975987694435   1.852007728341101  \n",
       "2   3.455579487909806  2.9856602160994425  \n",
       "3   1.872117169344902                 nan  \n",
       "4  1.1587657871914132                 nan  "
      ]
     },
     "execution_count": 15,
     "metadata": {},
     "output_type": "execute_result"
    }
   ],
   "source": [
    "dataframe.head()"
   ]
  },
  {
   "cell_type": "code",
   "execution_count": 16,
   "metadata": {},
   "outputs": [
    {
     "data": {
      "text/plain": [
       "(523051, 4)"
      ]
     },
     "execution_count": 16,
     "metadata": {},
     "output_type": "execute_result"
    }
   ],
   "source": [
    "dataframe.shape"
   ]
  },
  {
   "cell_type": "code",
   "execution_count": 17,
   "metadata": {},
   "outputs": [],
   "source": [
    "dataframe = dataframe[dataframe['f1_score'] != '-inf']\n",
    "dataframe = dataframe[dataframe['f2_score'] == 'nan']"
   ]
  },
  {
   "cell_type": "code",
   "execution_count": 18,
   "metadata": {},
   "outputs": [
    {
     "data": {
      "text/plain": [
       "(224840, 4)"
      ]
     },
     "execution_count": 18,
     "metadata": {},
     "output_type": "execute_result"
    }
   ],
   "source": [
    "dataframe.shape"
   ]
  },
  {
   "cell_type": "code",
   "execution_count": 19,
   "metadata": {},
   "outputs": [
    {
     "data": {
      "text/html": [
       "<div>\n",
       "<style scoped>\n",
       "    .dataframe tbody tr th:only-of-type {\n",
       "        vertical-align: middle;\n",
       "    }\n",
       "\n",
       "    .dataframe tbody tr th {\n",
       "        vertical-align: top;\n",
       "    }\n",
       "\n",
       "    .dataframe thead th {\n",
       "        text-align: right;\n",
       "    }\n",
       "</style>\n",
       "<table border=\"1\" class=\"dataframe\">\n",
       "  <thead>\n",
       "    <tr style=\"text-align: right;\">\n",
       "      <th></th>\n",
       "      <th>path</th>\n",
       "      <th>gender</th>\n",
       "      <th>f1_score</th>\n",
       "      <th>f2_score</th>\n",
       "    </tr>\n",
       "  </thead>\n",
       "  <tbody>\n",
       "    <tr>\n",
       "      <td>3</td>\n",
       "      <td>dataset/imdb_crop/01/nm0000001_rm946909184_189...</td>\n",
       "      <td>m</td>\n",
       "      <td>1.872117169344902</td>\n",
       "      <td>nan</td>\n",
       "    </tr>\n",
       "    <tr>\n",
       "      <td>4</td>\n",
       "      <td>dataset/imdb_crop/01/nm0000001_rm980463616_189...</td>\n",
       "      <td>m</td>\n",
       "      <td>1.1587657871914132</td>\n",
       "      <td>nan</td>\n",
       "    </tr>\n",
       "    <tr>\n",
       "      <td>6</td>\n",
       "      <td>dataset/imdb_crop/02/nm0000002_rm1346607872_19...</td>\n",
       "      <td>f</td>\n",
       "      <td>3.4791889134154426</td>\n",
       "      <td>nan</td>\n",
       "    </tr>\n",
       "    <tr>\n",
       "      <td>7</td>\n",
       "      <td>dataset/imdb_crop/02/nm0000002_rm1363385088_19...</td>\n",
       "      <td>f</td>\n",
       "      <td>3.87017062712482</td>\n",
       "      <td>nan</td>\n",
       "    </tr>\n",
       "    <tr>\n",
       "      <td>12</td>\n",
       "      <td>dataset/imdb_crop/02/nm0000002_rm221957120_192...</td>\n",
       "      <td>f</td>\n",
       "      <td>4.0964305784174595</td>\n",
       "      <td>nan</td>\n",
       "    </tr>\n",
       "  </tbody>\n",
       "</table>\n",
       "</div>"
      ],
      "text/plain": [
       "                                                 path gender  \\\n",
       "3   dataset/imdb_crop/01/nm0000001_rm946909184_189...      m   \n",
       "4   dataset/imdb_crop/01/nm0000001_rm980463616_189...      m   \n",
       "6   dataset/imdb_crop/02/nm0000002_rm1346607872_19...      f   \n",
       "7   dataset/imdb_crop/02/nm0000002_rm1363385088_19...      f   \n",
       "12  dataset/imdb_crop/02/nm0000002_rm221957120_192...      f   \n",
       "\n",
       "              f1_score f2_score  \n",
       "3    1.872117169344902      nan  \n",
       "4   1.1587657871914132      nan  \n",
       "6   3.4791889134154426      nan  \n",
       "7     3.87017062712482      nan  \n",
       "12  4.0964305784174595      nan  "
      ]
     },
     "execution_count": 19,
     "metadata": {},
     "output_type": "execute_result"
    }
   ],
   "source": [
    "dataframe.head()"
   ]
  },
  {
   "cell_type": "code",
   "execution_count": 20,
   "metadata": {},
   "outputs": [],
   "source": [
    "dataframe = dataframe.drop(['f1_score', 'f2_score'], axis=1)"
   ]
  },
  {
   "cell_type": "code",
   "execution_count": 21,
   "metadata": {},
   "outputs": [
    {
     "data": {
      "text/html": [
       "<div>\n",
       "<style scoped>\n",
       "    .dataframe tbody tr th:only-of-type {\n",
       "        vertical-align: middle;\n",
       "    }\n",
       "\n",
       "    .dataframe tbody tr th {\n",
       "        vertical-align: top;\n",
       "    }\n",
       "\n",
       "    .dataframe thead th {\n",
       "        text-align: right;\n",
       "    }\n",
       "</style>\n",
       "<table border=\"1\" class=\"dataframe\">\n",
       "  <thead>\n",
       "    <tr style=\"text-align: right;\">\n",
       "      <th></th>\n",
       "      <th>path</th>\n",
       "      <th>gender</th>\n",
       "    </tr>\n",
       "  </thead>\n",
       "  <tbody>\n",
       "    <tr>\n",
       "      <td>3</td>\n",
       "      <td>dataset/imdb_crop/01/nm0000001_rm946909184_189...</td>\n",
       "      <td>m</td>\n",
       "    </tr>\n",
       "    <tr>\n",
       "      <td>4</td>\n",
       "      <td>dataset/imdb_crop/01/nm0000001_rm980463616_189...</td>\n",
       "      <td>m</td>\n",
       "    </tr>\n",
       "    <tr>\n",
       "      <td>6</td>\n",
       "      <td>dataset/imdb_crop/02/nm0000002_rm1346607872_19...</td>\n",
       "      <td>f</td>\n",
       "    </tr>\n",
       "    <tr>\n",
       "      <td>7</td>\n",
       "      <td>dataset/imdb_crop/02/nm0000002_rm1363385088_19...</td>\n",
       "      <td>f</td>\n",
       "    </tr>\n",
       "    <tr>\n",
       "      <td>12</td>\n",
       "      <td>dataset/imdb_crop/02/nm0000002_rm221957120_192...</td>\n",
       "      <td>f</td>\n",
       "    </tr>\n",
       "  </tbody>\n",
       "</table>\n",
       "</div>"
      ],
      "text/plain": [
       "                                                 path gender\n",
       "3   dataset/imdb_crop/01/nm0000001_rm946909184_189...      m\n",
       "4   dataset/imdb_crop/01/nm0000001_rm980463616_189...      m\n",
       "6   dataset/imdb_crop/02/nm0000002_rm1346607872_19...      f\n",
       "7   dataset/imdb_crop/02/nm0000002_rm1363385088_19...      f\n",
       "12  dataset/imdb_crop/02/nm0000002_rm221957120_192...      f"
      ]
     },
     "execution_count": 21,
     "metadata": {},
     "output_type": "execute_result"
    }
   ],
   "source": [
    "dataframe.head()"
   ]
  },
  {
   "cell_type": "code",
   "execution_count": 22,
   "metadata": {},
   "outputs": [],
   "source": [
    "dataframe = dataframe.sample(frac=1)"
   ]
  },
  {
   "cell_type": "code",
   "execution_count": 23,
   "metadata": {},
   "outputs": [],
   "source": [
    "dataframe.to_csv('dataset/meta.csv', index=False)"
   ]
  }
 ],
 "metadata": {
  "kernelspec": {
   "display_name": "Python 3",
   "language": "python",
   "name": "python3"
  },
  "language_info": {
   "codemirror_mode": {
    "name": "ipython",
    "version": 3
   },
   "file_extension": ".py",
   "mimetype": "text/x-python",
   "name": "python",
   "nbconvert_exporter": "python",
   "pygments_lexer": "ipython3",
   "version": "3.6.8"
  }
 },
 "nbformat": 4,
 "nbformat_minor": 4
}
