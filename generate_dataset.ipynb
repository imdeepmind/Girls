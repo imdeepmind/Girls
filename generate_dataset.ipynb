{
 "cells": [
  {
   "cell_type": "code",
   "execution_count": 1,
   "metadata": {},
   "outputs": [
    {
     "name": "stdout",
     "output_type": "stream",
     "text": [
      "imdb_crop  meta.csv  wiki_crop\n"
     ]
    }
   ],
   "source": [
    "!ls dataset"
   ]
  },
  {
   "cell_type": "code",
   "execution_count": 2,
   "metadata": {},
   "outputs": [],
   "source": [
    "import pandas as pd\n",
    "import cv2\n",
    "import os\n",
    "from tqdm import tqdm"
   ]
  },
  {
   "cell_type": "code",
   "execution_count": 3,
   "metadata": {},
   "outputs": [],
   "source": [
    "data = pd.read_csv('dataset/meta.csv')"
   ]
  },
  {
   "cell_type": "code",
   "execution_count": 4,
   "metadata": {},
   "outputs": [
    {
     "data": {
      "text/html": [
       "<div>\n",
       "<style scoped>\n",
       "    .dataframe tbody tr th:only-of-type {\n",
       "        vertical-align: middle;\n",
       "    }\n",
       "\n",
       "    .dataframe tbody tr th {\n",
       "        vertical-align: top;\n",
       "    }\n",
       "\n",
       "    .dataframe thead th {\n",
       "        text-align: right;\n",
       "    }\n",
       "</style>\n",
       "<table border=\"1\" class=\"dataframe\">\n",
       "  <thead>\n",
       "    <tr style=\"text-align: right;\">\n",
       "      <th></th>\n",
       "      <th>path</th>\n",
       "      <th>gender</th>\n",
       "    </tr>\n",
       "  </thead>\n",
       "  <tbody>\n",
       "    <tr>\n",
       "      <td>0</td>\n",
       "      <td>dataset/imdb_crop/82/nm1534182_rm2156170752_19...</td>\n",
       "      <td>f</td>\n",
       "    </tr>\n",
       "    <tr>\n",
       "      <td>1</td>\n",
       "      <td>dataset/imdb_crop/51/nm0001451_rm3830028032_19...</td>\n",
       "      <td>f</td>\n",
       "    </tr>\n",
       "    <tr>\n",
       "      <td>2</td>\n",
       "      <td>dataset/wiki_crop/28/1036328_1948-05-21_2009.jpg</td>\n",
       "      <td>m</td>\n",
       "    </tr>\n",
       "    <tr>\n",
       "      <td>3</td>\n",
       "      <td>dataset/imdb_crop/54/nm0004754_rm1577898240_19...</td>\n",
       "      <td>f</td>\n",
       "    </tr>\n",
       "    <tr>\n",
       "      <td>4</td>\n",
       "      <td>dataset/imdb_crop/32/nm0000232_rm3094646272_19...</td>\n",
       "      <td>f</td>\n",
       "    </tr>\n",
       "  </tbody>\n",
       "</table>\n",
       "</div>"
      ],
      "text/plain": [
       "                                                path gender\n",
       "0  dataset/imdb_crop/82/nm1534182_rm2156170752_19...      f\n",
       "1  dataset/imdb_crop/51/nm0001451_rm3830028032_19...      f\n",
       "2   dataset/wiki_crop/28/1036328_1948-05-21_2009.jpg      m\n",
       "3  dataset/imdb_crop/54/nm0004754_rm1577898240_19...      f\n",
       "4  dataset/imdb_crop/32/nm0000232_rm3094646272_19...      f"
      ]
     },
     "execution_count": 4,
     "metadata": {},
     "output_type": "execute_result"
    }
   ],
   "source": [
    "data.head()"
   ]
  },
  {
   "cell_type": "code",
   "execution_count": 5,
   "metadata": {},
   "outputs": [],
   "source": [
    "data = data[data['gender'] == 'f']"
   ]
  },
  {
   "cell_type": "code",
   "execution_count": 6,
   "metadata": {},
   "outputs": [
    {
     "data": {
      "text/html": [
       "<div>\n",
       "<style scoped>\n",
       "    .dataframe tbody tr th:only-of-type {\n",
       "        vertical-align: middle;\n",
       "    }\n",
       "\n",
       "    .dataframe tbody tr th {\n",
       "        vertical-align: top;\n",
       "    }\n",
       "\n",
       "    .dataframe thead th {\n",
       "        text-align: right;\n",
       "    }\n",
       "</style>\n",
       "<table border=\"1\" class=\"dataframe\">\n",
       "  <thead>\n",
       "    <tr style=\"text-align: right;\">\n",
       "      <th></th>\n",
       "      <th>path</th>\n",
       "      <th>gender</th>\n",
       "    </tr>\n",
       "  </thead>\n",
       "  <tbody>\n",
       "    <tr>\n",
       "      <td>0</td>\n",
       "      <td>dataset/imdb_crop/82/nm1534182_rm2156170752_19...</td>\n",
       "      <td>f</td>\n",
       "    </tr>\n",
       "    <tr>\n",
       "      <td>1</td>\n",
       "      <td>dataset/imdb_crop/51/nm0001451_rm3830028032_19...</td>\n",
       "      <td>f</td>\n",
       "    </tr>\n",
       "    <tr>\n",
       "      <td>3</td>\n",
       "      <td>dataset/imdb_crop/54/nm0004754_rm1577898240_19...</td>\n",
       "      <td>f</td>\n",
       "    </tr>\n",
       "    <tr>\n",
       "      <td>4</td>\n",
       "      <td>dataset/imdb_crop/32/nm0000232_rm3094646272_19...</td>\n",
       "      <td>f</td>\n",
       "    </tr>\n",
       "    <tr>\n",
       "      <td>6</td>\n",
       "      <td>dataset/imdb_crop/38/nm0004738_rm2577912576_19...</td>\n",
       "      <td>f</td>\n",
       "    </tr>\n",
       "  </tbody>\n",
       "</table>\n",
       "</div>"
      ],
      "text/plain": [
       "                                                path gender\n",
       "0  dataset/imdb_crop/82/nm1534182_rm2156170752_19...      f\n",
       "1  dataset/imdb_crop/51/nm0001451_rm3830028032_19...      f\n",
       "3  dataset/imdb_crop/54/nm0004754_rm1577898240_19...      f\n",
       "4  dataset/imdb_crop/32/nm0000232_rm3094646272_19...      f\n",
       "6  dataset/imdb_crop/38/nm0004738_rm2577912576_19...      f"
      ]
     },
     "execution_count": 6,
     "metadata": {},
     "output_type": "execute_result"
    }
   ],
   "source": [
    "data.head()"
   ]
  },
  {
   "cell_type": "code",
   "execution_count": 7,
   "metadata": {},
   "outputs": [
    {
     "data": {
      "text/plain": [
       "(95111, 2)"
      ]
     },
     "execution_count": 7,
     "metadata": {},
     "output_type": "execute_result"
    }
   ],
   "source": [
    "data.shape"
   ]
  },
  {
   "cell_type": "code",
   "execution_count": 8,
   "metadata": {},
   "outputs": [],
   "source": [
    "if not os.path.exists('./dataset/images'):\n",
    "    os.makedirs('./dataset/images')\n",
    "\n",
    "if not os.path.exists('./dataset/images/faces'):\n",
    "    os.makedirs('./dataset/images/faces')"
   ]
  },
  {
   "cell_type": "code",
   "execution_count": 9,
   "metadata": {},
   "outputs": [
    {
     "name": "stdout",
     "output_type": "stream",
     "text": [
      "images\timdb_crop  meta.csv  wiki_crop\n"
     ]
    }
   ],
   "source": [
    "!ls dataset"
   ]
  },
  {
   "cell_type": "code",
   "execution_count": 10,
   "metadata": {},
   "outputs": [
    {
     "name": "stdout",
     "output_type": "stream",
     "text": [
      "['dataset/imdb_crop/82/nm1534182_rm2156170752_1987-11-8_2009.jpg'\n",
      " 'dataset/imdb_crop/51/nm0001451_rm3830028032_1970-3-18_2008.jpg'\n",
      " 'dataset/imdb_crop/54/nm0004754_rm1577898240_1982-3-3_2013.jpg'\n",
      " 'dataset/imdb_crop/32/nm0000232_rm3094646272_1958-3-10_2009.jpg'\n",
      " 'dataset/imdb_crop/38/nm0004738_rm2577912576_1968-8-14_2013.jpg'\n",
      " 'dataset/imdb_crop/64/nm0005064_rm3309170688_1978-1-5_2007.jpg'\n",
      " 'dataset/imdb_crop/73/nm0000173_rm2378537728_1967-6-20_2007.jpg'\n",
      " 'dataset/imdb_crop/53/nm2322853_rm724745472_1988-6-11_2009.jpg'\n",
      " 'dataset/imdb_crop/64/nm1667364_rm2983836416_1989-12-18_2010.jpg'\n",
      " 'dataset/imdb_crop/66/nm0133566_rm381651200_1966-9-28_2009.jpg']\n"
     ]
    }
   ],
   "source": [
    "images = data['path'].values\n",
    "print(images[0:10])"
   ]
  },
  {
   "cell_type": "code",
   "execution_count": 11,
   "metadata": {},
   "outputs": [
    {
     "name": "stderr",
     "output_type": "stream",
     "text": [
      "100%|██████████| 95111/95111 [37:31<00:00, 42.25it/s]  \n"
     ]
    }
   ],
   "source": [
    "for image in tqdm(images):\n",
    "    name = image.split('/')[3]\n",
    "    img = cv2.imread(image, 1)\n",
    "    \n",
    "    if img is not None:\n",
    "        img = cv2.resize(img, (64, 64))\n",
    "        cv2.imwrite('dataset/images/faces/' + name, img)"
   ]
  },
  {
   "cell_type": "code",
   "execution_count": null,
   "metadata": {},
   "outputs": [],
   "source": []
  }
 ],
 "metadata": {
  "kernelspec": {
   "display_name": "Python 3",
   "language": "python",
   "name": "python3"
  },
  "language_info": {
   "codemirror_mode": {
    "name": "ipython",
    "version": 3
   },
   "file_extension": ".py",
   "mimetype": "text/x-python",
   "name": "python",
   "nbconvert_exporter": "python",
   "pygments_lexer": "ipython3",
   "version": "3.6.8"
  }
 },
 "nbformat": 4,
 "nbformat_minor": 4
}
